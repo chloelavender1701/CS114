{
  "cells": [
    {
      "cell_type": "code",
      "execution_count": 1,
      "metadata": {
        "colab": {
          "base_uri": "https://localhost:8080/"
        },
        "id": "PGZBzb2I_Kif",
        "outputId": "f7b37c89-98ef-4d25-efc8-ee08051a9108"
      },
      "outputs": [
        {
          "name": "stdout",
          "output_type": "stream",
          "text": [
            "Mounted at /content/drive\n"
          ]
        }
      ],
      "source": [
        "from google.colab import drive\n",
        "drive.mount('/content/drive')"
      ]
    },
    {
      "cell_type": "code",
      "execution_count": 3,
      "metadata": {
        "id": "Y6YixikVENyh"
      },
      "outputs": [],
      "source": [
        "import os\n",
        "import pandas as pd\n",
        "import re"
      ]
    },
    {
      "cell_type": "code",
      "execution_count": 4,
      "metadata": {
        "id": "MMB36OlnH4WB"
      },
      "outputs": [],
      "source": [
        "# Đường dẫn đến thư mục cha\n",
        "parent_dir = '/content/drive/MyDrive/Public'"
      ]
    },
    {
      "cell_type": "code",
      "execution_count": 5,
      "metadata": {
        "id": "H75mH5CXJPLh"
      },
      "outputs": [],
      "source": [
        "# Danh sách các hiệu xe\n",
        "car_brands = ['Honda', 'Hyundai', 'KIA', 'Mazda', 'Mitsubishi', 'Suzuki', 'Toyota', 'VinFast', 'Others']\n",
        "# Tạo dictionary để lưu trữ tổng số lượng ảnh và số lượng ảnh theo từng hiệu xe của mỗi SV.\n",
        "count_totals = {}\n",
        "count_per_brand = {}\n",
        "\n",
        "for brand in car_brands:\n",
        "    brand_path = os.path.join(parent_dir, brand)\n",
        "    if os.path.isdir(brand_path):\n",
        "        for file in os.listdir(brand_path):\n",
        "            if file.endswith(('.jpg', '.jpeg', '.png')):\n",
        "                parts = file.split('.')\n",
        "\n",
        "                 # Kiểm tra tên file có hợp lệ không\n",
        "                if len(parts) < 4:\n",
        "                    continue  # Bỏ qua nếu không đủ phần\n",
        "\n",
        "                student_ids = parts[0].split('-')\n",
        "                image_count = 1 / len(student_ids)\n",
        "\n",
        "                # Lấy hiệu xe từ tên tệp\n",
        "                brand_from_file = parts[1] if len(parts) > 1 else None\n",
        "\n",
        "                # Kiểm tra xem hiệu xe có hợp lệ không\n",
        "                if brand_from_file not in car_brands:\n",
        "                    continue  # Bỏ qua nếu hiệu xe không hợp lệ\n",
        "\n",
        "                # Cập nhật số lượng ảnh cho từng SV\n",
        "                for student_id in student_ids:\n",
        "                    #Cập nhật tổng số lượng ảnh\n",
        "                    count_totals[student_id] = count_totals.get(student_id, 0) + image_count\n",
        "\n",
        "                    # Cập nhật số lượng ảnh theo hiệu xe\n",
        "                    if student_id not in count_per_brand:\n",
        "                        count_per_brand[student_id] = {}\n",
        "                    count_per_brand[student_id][brand] = count_per_brand[student_id].get(brand, 0) + image_count"
      ]
    },
    {
      "cell_type": "code",
      "execution_count": 8,
      "metadata": {
        "id": "ys9ef5bgdxZU"
      },
      "outputs": [],
      "source": [
        "# CarDataset-1.csv\n",
        "df1 = pd.DataFrame(list(count_totals.items()), columns=['MSSV', 'All'])\n",
        "df1['Số lượng'] = df1['All'].astype(float).round(1)\n",
        "df1['All'] = 'All'\n",
        "df1 = df1.sort_values(by='Số lượng', ascending=False)\n",
        "df1.to_csv('CarDataset-1.csv', index=False)"
      ]
    },
    {
      "cell_type": "code",
      "execution_count": 9,
      "metadata": {
        "id": "7rsTk5GWeDJk"
      },
      "outputs": [],
      "source": [
        "# CarDataset-2.csv\n",
        "rows = []\n",
        "for student_id, brands in count_per_brand.items():\n",
        "    for brand, count in brands.items():\n",
        "        rows.append([student_id, brand, count])\n",
        "\n",
        "df2 = pd.DataFrame(rows, columns=['MSSV', 'Hiệu xe', 'Số lượng'])\n",
        "df2['Số lượng'] = df2['Số lượng'].round(1)\n",
        "df2 = df2.sort_values(by='Số lượng', ascending=False)\n",
        "df2.to_csv('CarDataset-2.csv', index=False)"
      ]
    }
  ],
  "metadata": {
    "colab": {
      "provenance": []
    },
    "kernelspec": {
      "display_name": "Python 3",
      "name": "python3"
    },
    "language_info": {
      "name": "python"
    }
  },
  "nbformat": 4,
  "nbformat_minor": 0
}
